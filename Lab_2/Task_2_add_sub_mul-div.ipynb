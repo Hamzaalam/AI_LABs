{
 "cells": [
  {
   "cell_type": "code",
   "execution_count": 4,
   "metadata": {
    "collapsed": false
   },
   "outputs": [
    {
     "name": "stdout",
     "output_type": "stream",
     "text": [
      "Enter the 1st Number 8\n",
      "Enter the 2nd Number 7\n",
      "Enter the operator /\n",
      "1.1428571428571428\n"
     ]
    }
   ],
   "source": [
    "import math\n",
    "x = int(input('Enter the 1st Number '))\n",
    "y = int(input('Enter the 2nd Number '))\n",
    "op = input('Enter the operator ')\n",
    "\n",
    "def add(x, y):\n",
    "    Answer = x + y\n",
    "    return Answer\n",
    "\n",
    "def sub(x, y):\n",
    "    Answer = x - y\n",
    "    return Answer\n",
    "\n",
    "def mul(x, y):\n",
    "    Answer = x * y\n",
    "    return Answer\n",
    "\n",
    "def div(x, y):\n",
    "    Answer = x / y\n",
    "    return Answer\n",
    "\n",
    "if (op==\"+\"):\n",
    "\n",
    "       print(add(x,y))\n",
    "if (op==\"-\"):\n",
    "\n",
    "       print( sub(x,y))\n",
    "if (op==\"*\"):\n",
    "\n",
    "       print(mul(x,y))\n",
    "if (op==\"/\"):\n",
    "\n",
    "       print(div(x,y))"
   ]
  },
  {
   "cell_type": "code",
   "execution_count": null,
   "metadata": {
    "collapsed": true
   },
   "outputs": [],
   "source": []
  }
 ],
 "metadata": {
  "kernelspec": {
   "display_name": "Python [Root]",
   "language": "python",
   "name": "Python [Root]"
  },
  "language_info": {
   "codemirror_mode": {
    "name": "ipython",
    "version": 3
   },
   "file_extension": ".py",
   "mimetype": "text/x-python",
   "name": "python",
   "nbconvert_exporter": "python",
   "pygments_lexer": "ipython3",
   "version": "3.5.2"
  }
 },
 "nbformat": 4,
 "nbformat_minor": 0
}
